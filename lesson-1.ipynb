{
 "cells": [
  {
   "cell_type": "code",
   "execution_count": 4,
   "metadata": {},
   "outputs": [
    {
     "name": "stdout",
     "output_type": "stream",
     "text": [
      "Max Lukichov\n"
     ]
    }
   ],
   "source": [
    "Name = 'Max'\n",
    "Lastname = ' Lukichov'\n",
    "\n",
    "AllName = Name + Lastname\n",
    "\n",
    "print(AllName)"
   ]
  },
  {
   "cell_type": "code",
   "execution_count": 8,
   "metadata": {},
   "outputs": [
    {
     "name": "stdout",
     "output_type": "stream",
     "text": [
      "80\n"
     ]
    }
   ],
   "source": [
    "x = 8**2 + 4*(2 + 2)\n",
    "print(x)"
   ]
  },
  {
   "cell_type": "code",
   "execution_count": 10,
   "metadata": {},
   "outputs": [
    {
     "name": "stdout",
     "output_type": "stream",
     "text": [
      "area of square is:  400\n"
     ]
    }
   ],
   "source": [
    "# обчислюємо площу квадрата\n",
    "squareSide = 20\n",
    "squareArea = squareSide * squareSide\n",
    "message = 'area of square is: '\n",
    "print(message, squareArea)"
   ]
  },
  {
   "cell_type": "code",
   "execution_count": 16,
   "metadata": {},
   "outputs": [
    {
     "name": "stdout",
     "output_type": "stream",
     "text": [
      "Hello, max\n"
     ]
    }
   ],
   "source": [
    "name = input('Enter your name: ')\n",
    "hello_string = f\"Hello, {name}\"\n",
    "print(hello_string)"
   ]
  },
  {
   "cell_type": "code",
   "execution_count": 25,
   "metadata": {},
   "outputs": [
    {
     "name": "stdout",
     "output_type": "stream",
     "text": [
      "Hello Max, Lukichov\n"
     ]
    }
   ],
   "source": [
    "FirstName = input(\"Your name:\")\n",
    "LastName = input(\"Last name:\")\n",
    "grettings = f\"Hello {FirstName}, {LastName}\"\n",
    "print(grettings)"
   ]
  },
  {
   "cell_type": "code",
   "execution_count": 45,
   "metadata": {},
   "outputs": [
    {
     "name": "stdout",
     "output_type": "stream",
     "text": [
      "True\n"
     ]
    }
   ],
   "source": [
    "age = 18\n",
    "is_adult = age >= 18\n",
    "print(is_adult)"
   ]
  },
  {
   "cell_type": "code",
   "execution_count": 3,
   "metadata": {},
   "outputs": [
    {
     "name": "stdout",
     "output_type": "stream",
     "text": [
      "45\n"
     ]
    }
   ],
   "source": [
    "x = 15\n",
    "y = 20\n",
    "z = 10\n",
    "p = x + y + z\n",
    "print(p)"
   ]
  },
  {
   "cell_type": "code",
   "execution_count": 4,
   "metadata": {},
   "outputs": [
    {
     "name": "stdout",
     "output_type": "stream",
     "text": [
      "Привіт. Я з Kyiv, навчаюся у школі № 257\n"
     ]
    }
   ],
   "source": [
    "City = input(\"Your city: \")\n",
    "School = input(\"Number of your school: \") \n",
    "grettings = f\"Привіт. Я з {City}, навчаюся у школі № {School}\"\n",
    "print(grettings)"
   ]
  }
 ],
 "metadata": {
  "interpreter": {
   "hash": "f86cffe92f740405c39a45cc1481bf0b87dbf4940213354286d6e320d14f3e3e"
  },
  "kernelspec": {
   "display_name": "Python 3.10.0 64-bit",
   "name": "python3"
  },
  "language_info": {
   "codemirror_mode": {
    "name": "ipython",
    "version": 3
   },
   "file_extension": ".py",
   "mimetype": "text/x-python",
   "name": "python",
   "nbconvert_exporter": "python",
   "pygments_lexer": "ipython3",
   "version": "3.10.0"
  },
  "orig_nbformat": 4
 },
 "nbformat": 4,
 "nbformat_minor": 2
}
