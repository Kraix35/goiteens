{
 "cells": [
  {
   "cell_type": "code",
   "execution_count": 3,
   "metadata": {},
   "outputs": [
    {
     "name": "stdout",
     "output_type": "stream",
     "text": [
      "{'Sidorov'}\n",
      "{'Ivanov', 'Petrov', 'Petrova', 'Ivanova', 'Sidorov'}\n",
      "{'Ivanov', 'Petrov', 'Petrova', 'Ivanova', 'Sidorov'}\n",
      "['Ivanov', 'Ivanova', 'Petrov', 'Petrova', 'Sidorov']\n"
     ]
    }
   ],
   "source": [
    "customers_A = {'Ivanov', 'Petrov', 'Sidorov'}\n",
    "customers_B = {'Ivanova', 'Petrova', 'Sidorov'}\n",
    "\n",
    "customers_A_B = customers_A & customers_B\n",
    "print(customers_A_B)\n",
    "\n",
    "customers_all = customers_A | customers_B \n",
    "print(customers_all)\n",
    "\n",
    "print(customers_B.union(customers_A))\n",
    "\n",
    "print(sorted(customers_all))\n"
   ]
  },
  {
   "cell_type": "code",
   "execution_count": 9,
   "metadata": {},
   "outputs": [
    {
     "name": "stdout",
     "output_type": "stream",
     "text": [
      "['США', 27, 27.4, 12000]\n"
     ]
    }
   ],
   "source": [
    "currencies = {\n",
    "    'USD': ['США', 27.2, 27.4, 12000],\n",
    "    'EUR': ['ЄС', 30.2, 30.4, 5000]\n",
    "    }\n",
    "\n",
    "\n",
    "currencies['PZT'] = ['Злотий']\n",
    "currencies['USD'][1] = 27\n",
    "\n",
    "usd = currencies.pop('USD')\n",
    "print(usd)\n"
   ]
  }
 ],
 "metadata": {
  "interpreter": {
   "hash": "f86cffe92f740405c39a45cc1481bf0b87dbf4940213354286d6e320d14f3e3e"
  },
  "kernelspec": {
   "display_name": "Python 3.10.0 64-bit",
   "language": "python",
   "name": "python3"
  },
  "language_info": {
   "codemirror_mode": {
    "name": "ipython",
    "version": 3
   },
   "file_extension": ".py",
   "mimetype": "text/x-python",
   "name": "python",
   "nbconvert_exporter": "python",
   "pygments_lexer": "ipython3",
   "version": "3.10.0"
  },
  "orig_nbformat": 4
 },
 "nbformat": 4,
 "nbformat_minor": 2
}
