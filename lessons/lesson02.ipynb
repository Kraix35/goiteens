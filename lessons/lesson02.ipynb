{
 "cells": [
  {
   "cell_type": "code",
   "execution_count": 3,
   "metadata": {},
   "outputs": [
    {
     "name": "stdout",
     "output_type": "stream",
     "text": [
      "['Ivan', 'Dmytro', 'Petro', 'Oleg', 'Kateryna']\n"
     ]
    }
   ],
   "source": [
    "pupils = ['Ivan', 'Dmytro', 'Petro', 'Kateryna']\n",
    "pupils.insert(-1, 'Oleg')\n",
    "print(pupils)"
   ]
  },
  {
   "cell_type": "code",
   "execution_count": 4,
   "metadata": {},
   "outputs": [
    {
     "name": "stdout",
     "output_type": "stream",
     "text": [
      "3\n"
     ]
    }
   ],
   "source": [
    "pupils = ['Ivan', 'Dmytro', 'Petro', 'Kateryna', 'Kateryna', 'Kateryna']\n",
    "\n",
    "count_Kate = pupils.count('Kateryna')\n",
    "\n",
    "print(count_Kate)"
   ]
  },
  {
   "cell_type": "code",
   "execution_count": 5,
   "metadata": {},
   "outputs": [
    {
     "name": "stdout",
     "output_type": "stream",
     "text": [
      "1\n"
     ]
    }
   ],
   "source": [
    "pupils = ['Ivan', 'Dmytro', 'Petro', 'Kateryna', 'Kateryna', 'Kateryna']\n",
    "print(pupils.count('Dmytro'))"
   ]
  },
  {
   "cell_type": "code",
   "execution_count": 6,
   "metadata": {},
   "outputs": [
    {
     "name": "stdout",
     "output_type": "stream",
     "text": [
      "Petro\n",
      "Kateryna\n",
      "Kateryna\n",
      "Kateryna\n",
      "Ivan\n",
      "Dmytro\n"
     ]
    }
   ],
   "source": [
    "pupils = ['Ivan', 'Dmytro', 'Petro', 'Kateryna', 'Kateryna', 'Kateryna']\n",
    "pupils.sort()\n",
    "\n",
    "pupils.reverse()\n",
    "\n",
    "for current_pupil in pupils:\n",
    "    print(current_pupil)"
   ]
  },
  {
   "cell_type": "code",
   "execution_count": 7,
   "metadata": {},
   "outputs": [
    {
     "name": "stdout",
     "output_type": "stream",
     "text": [
      "['Ivan', 'Dmytro', 'Petro', 'Kateryna', 'Kateryna', 'Kateryna']\n"
     ]
    }
   ],
   "source": [
    "pupils_7a = ['Ivan', 'Dmytro', 'Petro', 'Kateryna', 'Kateryna', 'Kateryna']\n",
    "\n",
    "pupils_8a = pupils_7a\n",
    "print(pupils_8a)"
   ]
  },
  {
   "cell_type": "code",
   "execution_count": 8,
   "metadata": {},
   "outputs": [
    {
     "name": "stdout",
     "output_type": "stream",
     "text": [
      "True\n",
      "In list\n"
     ]
    }
   ],
   "source": [
    "pupils_7a = ['Ivan', 'Dmytro', 'Petro', 'Kateryna', 'Kateryna', 'Kateryna']\n",
    "\n",
    "pupil = input('Enter pupil')\n",
    "\n",
    "is_present = pupil in pupils_7a\n",
    "print(is_present)\n",
    "\n",
    "if pupil in pupils_7a:\n",
    "    print('In list')\n",
    "else:\n",
    "    print('not in class')"
   ]
  },
  {
   "cell_type": "code",
   "execution_count": 15,
   "metadata": {},
   "outputs": [
    {
     "name": "stdout",
     "output_type": "stream",
     "text": [
      "Постачання продуктів\n",
      "Orange Banana Mandarin Carrot Peper Продаж продуктів за назвою:\n",
      "Вказаного продукту немає в наявності\n"
     ]
    }
   ],
   "source": [
    "products = ['Orange', 'Banana', 'Mandarin']\n",
    "products_sold = list()\n",
    "\n",
    "print('Постачання продуктів')\n",
    "\n",
    "'''\n",
    "while True:\n",
    "    product = input('Введіть назву продукту або 0 для виходу')\n",
    "\n",
    "    if product == '0':\n",
    "        break\n",
    "    else:\n",
    "        products.append(product)\n",
    "        print(products)\n",
    "'''\n",
    "\n",
    "products.extend(['Carrot', 'Peper'])\n",
    "\n",
    "for product in products:\n",
    "    print(product, end=' ')\n",
    "\n",
    "print('Продаж продуктів за назвою:')\n",
    "\n",
    "product = input('Введіть назву продукту, який бажаєте купити')\n",
    "\n",
    "if product in products:\n",
    "    products.remove(product)\n",
    "    products_sold.append(product)\n",
    "    print('Дякуємо за покупку!')\n",
    "else:\n",
    "    print('Вказаного продукту немає в наявності')"
   ]
  }
 ],
 "metadata": {
  "interpreter": {
   "hash": "f86cffe92f740405c39a45cc1481bf0b87dbf4940213354286d6e320d14f3e3e"
  },
  "kernelspec": {
   "display_name": "Python 3.10.0 64-bit",
   "language": "python",
   "name": "python3"
  },
  "language_info": {
   "codemirror_mode": {
    "name": "ipython",
    "version": 3
   },
   "file_extension": ".py",
   "mimetype": "text/x-python",
   "name": "python",
   "nbconvert_exporter": "python",
   "pygments_lexer": "ipython3",
   "version": "3.10.0"
  },
  "orig_nbformat": 4
 },
 "nbformat": 4,
 "nbformat_minor": 2
}
