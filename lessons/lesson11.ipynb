{
 "cells": [
  {
   "cell_type": "code",
   "execution_count": 4,
   "metadata": {},
   "outputs": [
    {
     "name": "stdout",
     "output_type": "stream",
     "text": [
      "18\n",
      "12\n",
      "12\n"
     ]
    }
   ],
   "source": [
    "x = 18\n",
    "\n",
    "def func():\n",
    "    global x\n",
    "    \n",
    "    x = 12\n",
    "    print(x)\n",
    "\n",
    "print(x)\n",
    "func()\n",
    "print(x)\n",
    "\n",
    "\n",
    "\n"
   ]
  },
  {
   "cell_type": "code",
   "execution_count": 9,
   "metadata": {},
   "outputs": [
    {
     "name": "stdout",
     "output_type": "stream",
     "text": [
      "4\n"
     ]
    }
   ],
   "source": [
    "\n",
    "\n",
    "def stepin(osnova, step = 2):\n",
    "    return osnova ** step\n",
    "\n",
    "print(stepin(2))"
   ]
  },
  {
   "cell_type": "code",
   "execution_count": 11,
   "metadata": {},
   "outputs": [
    {
     "name": "stdout",
     "output_type": "stream",
     "text": [
      "На розсилку \"Новини\" підписалися 8 користувачів\n",
      "ivanov@gmail.com\n",
      "petrov@gmail.com\n",
      "ivanova@gmail.com\n",
      "---------------------------\n",
      "\n",
      "На розсилку \"Що нового ?\" підписалися 13 користувачів\n",
      "ivanov@gmail.com\n",
      "ivanova@gmail.com\n",
      "---------------------------\n",
      "\n",
      "На розсилку \"Рекламні пропозиції\" підписалися 21 користувачів\n",
      "ivanov@gmail.com\n",
      "---------------------------\n",
      "\n"
     ]
    }
   ],
   "source": [
    "subscribers_list_news = list()\n",
    "subscribers_list_what_new = list()\n",
    "subscribers_list_ads = list()\n",
    "\n",
    "def subscribe(email, is_news = True, is_new = True, is_ads = True):\n",
    "    global subscribers_list_news, subscribers_list_what_new, subscribers_list_ads\n",
    "\n",
    "    if(is_news):\n",
    "        subscribers_list_news.append(email)\n",
    "    if(is_new):\n",
    "        subscribers_list_what_new.append(email)\n",
    "    if(is_ads):\n",
    "        subscribers_list_ads.append(email)\n",
    "\n",
    "\n",
    "\n",
    "\n",
    "def print_subscribers(subscribers_list, list_name) :\n",
    "    delimiter = '---------------------------'\n",
    "    print('На розсилку {} підписалися {} користувачів'.format(list_name, len(list_name)))\n",
    "    for email in subscribers_list:\n",
    "        print(email)\n",
    "\n",
    "    print(delimiter)\n",
    "    print()\n",
    "\n",
    "subscribe('ivanov@gmail.com')\n",
    "subscribe('petrov@gmail.com', True, False, False)\n",
    "subscribe('ivanova@gmail.com', is_ads = False)\n",
    "\n",
    "print_subscribers(subscribers_list_news, '\"Новини\"')\n",
    "print_subscribers(subscribers_list_what_new, '\"Що нового ?\"')\n",
    "print_subscribers(subscribers_list_ads, '\"Рекламні пропозиції\"')"
   ]
  },
  {
   "cell_type": "code",
   "execution_count": 15,
   "metadata": {},
   "outputs": [
    {
     "name": "stdout",
     "output_type": "stream",
     "text": [
      "a 10\n",
      "single_item 1\n",
      "single_item 2\n",
      "single_item 3\n",
      "Jack 1123\n",
      "John 2231\n",
      "Inge 1560\n",
      "None\n"
     ]
    }
   ],
   "source": [
    "def total(a=5, *numbers, **phone_book):\n",
    "    print('a', a)\n",
    "\n",
    "    for single_item in numbers:\n",
    "        print('single_item', single_item)\n",
    "\n",
    "\n",
    "    for first_part, second_part in phone_book.items():\n",
    "        print(first_part,second_part)\n",
    "\n",
    "print(total(10, 1, 2, 3, Jack=1123, John=2231, Inge=1560))\n",
    "\n"
   ]
  }
 ],
 "metadata": {
  "interpreter": {
   "hash": "f86cffe92f740405c39a45cc1481bf0b87dbf4940213354286d6e320d14f3e3e"
  },
  "kernelspec": {
   "display_name": "Python 3.10.0 64-bit",
   "language": "python",
   "name": "python3"
  },
  "language_info": {
   "codemirror_mode": {
    "name": "ipython",
    "version": 3
   },
   "file_extension": ".py",
   "mimetype": "text/x-python",
   "name": "python",
   "nbconvert_exporter": "python",
   "pygments_lexer": "ipython3",
   "version": "3.10.0"
  },
  "orig_nbformat": 4
 },
 "nbformat": 4,
 "nbformat_minor": 2
}
