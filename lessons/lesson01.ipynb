{
 "cells": [
  {
   "cell_type": "code",
   "execution_count": 2,
   "metadata": {},
   "outputs": [
    {
     "name": "stdout",
     "output_type": "stream",
     "text": [
      "search мило\n",
      "search паста\n",
      "search картопля\n",
      "search молоко\n",
      "in 2 users молоко\n"
     ]
    }
   ],
   "source": [
    "goods_user_1 = ['мило', 'паста', 'картопля', 'молоко']\n",
    "goods_user_2 = ['чай', 'печиво', 'молоко', 'сир']\n",
    "\n",
    "for i in goods_user_1 :\n",
    "    print('search', i)\n",
    "    for j in goods_user_2 :\n",
    "        if i == j :\n",
    "            print('in 2 users', j)"
   ]
  },
  {
   "cell_type": "code",
   "execution_count": 6,
   "metadata": {},
   "outputs": [
    {
     "name": "stdout",
     "output_type": "stream",
     "text": [
      "hello, Dmytro\n"
     ]
    }
   ],
   "source": [
    "while True:\n",
    "    name = input('enter your name')\n",
    "    if name == 'Dmytro':\n",
    "        print('hello, Dmytro')\n",
    "        break\n",
    "    else: print(name)"
   ]
  },
  {
   "cell_type": "code",
   "execution_count": 10,
   "metadata": {},
   "outputs": [
    {
     "name": "stdout",
     "output_type": "stream",
     "text": [
      "1\n",
      "Hello, Dmytro\n"
     ]
    }
   ],
   "source": [
    "suma = 0\n",
    "number = 1\n",
    "\n",
    "while suma <= 100:\n",
    "    suma = suma + number ** 2\n",
    "    print(number)\n",
    "    number = number + 1\n",
    "\n",
    "    \n",
    "    name = input('enter name: ')\n",
    "    if name == 'Dmytro':\n",
    "        print('Hello, Dmytro')\n",
    "        break\n",
    "else: print(name)"
   ]
  },
  {
   "cell_type": "code",
   "execution_count": 12,
   "metadata": {},
   "outputs": [
    {
     "name": "stdout",
     "output_type": "stream",
     "text": [
      "20\n",
      "The end\n"
     ]
    }
   ],
   "source": [
    "min_number = 20\n",
    "max_number = 100\n",
    "\n",
    "while True:\n",
    "    number = int(input('enter number'))\n",
    "\n",
    "    if number < min_number :\n",
    "        continue\n",
    "\n",
    "    if number > max_number :\\\n",
    "        break\n",
    "    else: \n",
    "        print(number)\n",
    "\n",
    "print('The end')\n",
    "    "
   ]
  },
  {
   "cell_type": "code",
   "execution_count": 22,
   "metadata": {},
   "outputs": [
    {
     "ename": "SyntaxError",
     "evalue": "cannot delete function call (Temp/ipykernel_7932/2360842201.py, line 13)",
     "output_type": "error",
     "traceback": [
      "\u001b[1;36m  File \u001b[1;32m\"C:\\Users\\maxlu\\AppData\\Local\\Temp/ipykernel_7932/2360842201.py\"\u001b[1;36m, line \u001b[1;32m13\u001b[0m\n\u001b[1;33m    del pupils(3)\u001b[0m\n\u001b[1;37m        ^\u001b[0m\n\u001b[1;31mSyntaxError\u001b[0m\u001b[1;31m:\u001b[0m cannot delete function call\n"
     ]
    }
   ],
   "source": [
    "pupils = list()\n",
    "pupils = ['Ivan', 'Dmytro', 'Petro', 'Kateryna']\n",
    "pupils = list(('Ivan', 'Dmytro', 'Petro', 'Kateryna'))\n",
    "\n",
    "pupil = pupils[2]\n",
    "\n",
    "\n",
    "pupils.append('Yulia')\n",
    "pupils.append('Kolia')\n",
    "\n",
    "\n",
    "\n",
    "del pupils(3)\n",
    "print(pupils)"
   ]
  },
  {
   "cell_type": "code",
   "execution_count": null,
   "metadata": {},
   "outputs": [],
   "source": []
  }
 ],
 "metadata": {
  "interpreter": {
   "hash": "f86cffe92f740405c39a45cc1481bf0b87dbf4940213354286d6e320d14f3e3e"
  },
  "kernelspec": {
   "display_name": "Python 3.10.0 64-bit",
   "language": "python",
   "name": "python3"
  },
  "language_info": {
   "codemirror_mode": {
    "name": "ipython",
    "version": 3
   },
   "file_extension": ".py",
   "mimetype": "text/x-python",
   "name": "python",
   "nbconvert_exporter": "python",
   "pygments_lexer": "ipython3",
   "version": "3.10.0"
  },
  "orig_nbformat": 4
 },
 "nbformat": 4,
 "nbformat_minor": 2
}
