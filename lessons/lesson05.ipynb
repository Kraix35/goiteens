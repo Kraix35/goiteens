{
 "cells": [
  {
   "cell_type": "code",
   "execution_count": 4,
   "metadata": {},
   "outputs": [
    {
     "name": "stdout",
     "output_type": "stream",
     "text": [
      "first name:  Max\n",
      "last name:  Lukichov\n"
     ]
    }
   ],
   "source": [
    "fio_str = input('enter FIO: ')\n",
    "fio_list = fio_str.split()\n",
    "\n",
    "print('first name: ', fio_list[0])\n",
    "print('last name: ', fio_list[1])"
   ]
  },
  {
   "cell_type": "code",
   "execution_count": 5,
   "metadata": {},
   "outputs": [
    {
     "name": "stdout",
     "output_type": "stream",
     "text": [
      "mysql;127.0.0.1;root;userpassw\n"
     ]
    }
   ],
   "source": [
    "connection_params = ['mysql', '127.0.0.1', 'root', 'userpassw']\n",
    "\n",
    "connection_string = ';'.join(connection_params)\n",
    "\n",
    "print(connection_string)"
   ]
  },
  {
   "cell_type": "code",
   "execution_count": 6,
   "metadata": {},
   "outputs": [
    {
     "name": "stdout",
     "output_type": "stream",
     "text": [
      "hello, world!\n"
     ]
    }
   ],
   "source": [
    "S = 'Hello, World!'\n",
    "print(S.lower())\n",
    "# Prints hello, world!\n"
   ]
  },
  {
   "cell_type": "code",
   "execution_count": 7,
   "metadata": {},
   "outputs": [
    {
     "name": "stdout",
     "output_type": "stream",
     "text": [
      "HELLO, WORLD!\n"
     ]
    }
   ],
   "source": [
    "S = 'Hello, World!'\n",
    "print(S.upper())\n",
    "# Prints HELLO, WORLD!\n"
   ]
  },
  {
   "cell_type": "code",
   "execution_count": 8,
   "metadata": {},
   "outputs": [
    {
     "name": "stdout",
     "output_type": "stream",
     "text": [
      "Hello, world!\n"
     ]
    }
   ],
   "source": [
    "S = 'Hello, World!'\n",
    "print(S.capitalize())\n",
    "# Prints Hello, world!\n"
   ]
  },
  {
   "cell_type": "code",
   "execution_count": 9,
   "metadata": {},
   "outputs": [
    {
     "name": "stdout",
     "output_type": "stream",
     "text": [
      "hELLO, wORLD!\n"
     ]
    }
   ],
   "source": [
    "S = 'Hello, World!'\n",
    "print(S.swapcase())\n",
    "# Prints hELLO, wORLD!\n"
   ]
  },
  {
   "cell_type": "code",
   "execution_count": 10,
   "metadata": {},
   "outputs": [
    {
     "name": "stdout",
     "output_type": "stream",
     "text": [
      "Hello, World!\n"
     ]
    }
   ],
   "source": [
    "S = 'hello, world!'\n",
    "print(S.title())\n",
    "# Prints Hello, World!\n"
   ]
  },
  {
   "cell_type": "code",
   "execution_count": 4,
   "metadata": {},
   "outputs": [
    {
     "name": "stdout",
     "output_type": "stream",
     "text": [
      "This is a spam\n"
     ]
    }
   ],
   "source": [
    "adv_words = ['купити', 'продати', 'реклама']\n",
    "leter_text = input()\n",
    "not_found = -1\n",
    "\n",
    " \n",
    "for stop_word in adv_words :\n",
    "\tif leter_text.find(stop_word) != not_found:\n",
    "          print('This is a spam')\n",
    "          break\n",
    "else: \n",
    "         print('This is not a spam')"
   ]
  },
  {
   "cell_type": "code",
   "execution_count": 31,
   "metadata": {},
   "outputs": [
    {
     "name": "stdout",
     "output_type": "stream",
     "text": [
      "Max\n"
     ]
    }
   ],
   "source": [
    "map = { ord('1'): ''}\n",
    "\n",
    "name = 'Max1'\n",
    "\n",
    "name = name.translate(map)\n",
    "\n",
    "print(name)"
   ]
  },
  {
   "cell_type": "code",
   "execution_count": 3,
   "metadata": {},
   "outputs": [
    {
     "name": "stdout",
     "output_type": "stream",
     "text": [
      "Мене звати Олег. Мені 14 років.\n"
     ]
    }
   ],
   "source": [
    "S = 'Мене звати %s. Мені %d років.' % ('Олег', 14)\n",
    "print(S)"
   ]
  },
  {
   "cell_type": "code",
   "execution_count": 2,
   "metadata": {},
   "outputs": [
    {
     "name": "stdout",
     "output_type": "stream",
     "text": [
      "--------------------------------------------------------------------------------\n",
      "|  №  |Товар                                   |       кількіть|       вартість|\n",
      "--------------------------------------------------------------------------------\n",
      "|  1  |Апельсин                                |              6|            150|\n",
      "|  2  |Лимон                                   |              8|             90|\n",
      "|  3  |Картопля                                |            123|            445|\n",
      "--------------------------------------------------------------------------------\n",
      "| Продано всього                                               |            685|\n",
      "--------------------------------------------------------------------------------\n"
     ]
    }
   ],
   "source": [
    "delimiter = '-' * 80\n",
    "goods = [['Апельсин', 6, 150], ['Лимон', 8, 90], ['Картопля', 123, 445]]\n",
    " \n",
    "total_sum = 0\n",
    "number = 0\n",
    " \n",
    "print(delimiter)\n",
    "print(\"|{:^5}|{:<40}|{:>15}|{:>15}|\".format('№', 'Товар', 'кількіть', 'вартість'))\n",
    "print(delimiter)\n",
    " \n",
    "for good in goods :\n",
    "    name = good[0]\n",
    "    count = good[1]\n",
    "    money = good[2]\n",
    "    number += 1;\n",
    "    total_sum += money\n",
    "    print(\"|{:^5}|{:<40}|{:>15}|{:>15}|\".format(number, name, count, money))\n",
    " \n",
    "print(delimiter)\n",
    "print(\"|{:<62}|{:>15}|\".format(' Продано всього', total_sum))\n",
    "print(delimiter)\n",
    "\n"
   ]
  },
  {
   "cell_type": "code",
   "execution_count": null,
   "metadata": {},
   "outputs": [],
   "source": []
  }
 ],
 "metadata": {
  "interpreter": {
   "hash": "f86cffe92f740405c39a45cc1481bf0b87dbf4940213354286d6e320d14f3e3e"
  },
  "kernelspec": {
   "display_name": "Python 3.10.0 64-bit",
   "language": "python",
   "name": "python3"
  },
  "language_info": {
   "codemirror_mode": {
    "name": "ipython",
    "version": 3
   },
   "file_extension": ".py",
   "mimetype": "text/x-python",
   "name": "python",
   "nbconvert_exporter": "python",
   "pygments_lexer": "ipython3",
   "version": "3.10.0"
  },
  "orig_nbformat": 4
 },
 "nbformat": 4,
 "nbformat_minor": 2
}
