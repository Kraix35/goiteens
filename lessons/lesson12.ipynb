{
 "cells": [
  {
   "cell_type": "code",
   "execution_count": 1,
   "metadata": {},
   "outputs": [
    {
     "name": "stdout",
     "output_type": "stream",
     "text": [
      "5\n"
     ]
    }
   ],
   "source": [
    "def dodaty(x, y):\n",
    "    return x + y\n",
    "\n",
    "func_alias = dodaty\n",
    "result = func_alias(2,3)\n",
    "print(result)"
   ]
  },
  {
   "cell_type": "code",
   "execution_count": 2,
   "metadata": {},
   "outputs": [
    {
     "name": "stdout",
     "output_type": "stream",
     "text": [
      "5\n",
      "-1\n"
     ]
    }
   ],
   "source": [
    "def sum_func(x, y):\n",
    "    return x + y\n",
    "\n",
    "def subtraction_func(x, y):\n",
    "    return x - y\n",
    "\n",
    "def tricky_func(x, y, func):\n",
    "    return func(x, y)\n",
    "\n",
    "sum_result = tricky_func(2, 3, sum_func)\n",
    "min_result = tricky_func(2, 3, subtraction_func)\n",
    "\n",
    "print(sum_result)  \n",
    "print(min_result)  "
   ]
  },
  {
   "cell_type": "code",
   "execution_count": 3,
   "metadata": {},
   "outputs": [
    {
     "name": "stdout",
     "output_type": "stream",
     "text": [
      "5\n",
      "-1\n"
     ]
    }
   ],
   "source": [
    "def sum_func(x, y):\n",
    "    return x + y\n",
    "\n",
    "def subtraction_func(x, y):\n",
    "    return x - y\n",
    "\n",
    "def get_operator(operator):\n",
    "    if operator == '+':\n",
    "        return sum_func\n",
    "    elif operator == '-':\n",
    "        return subtraction_func\n",
    "    else:\n",
    "        print('Unknown operator')\n",
    "\n",
    "f = get_operator(\"+\")\n",
    "print(f(2, 3))    \n",
    "\n",
    "f = get_operator(\"-\")\n",
    "print(f(2, 3))    "
   ]
  },
  {
   "cell_type": "code",
   "execution_count": 4,
   "metadata": {},
   "outputs": [
    {
     "name": "stdout",
     "output_type": "stream",
     "text": [
      "Send SMS to +380001234567 with text 18.09.2001 надходження: зарплата - 30 000 грн. Баланс: 100 444 грн.\n",
      "Send email to petrov@ggg.com with text 18.09.2001 надходження: зарплата - 30 000 грн. Баланс: 100 444 грн.\n",
      "Send message 18.09.2001 надходження: зарплата - 30 000 грн. Баланс: 100 444 грн. to queue with app id dasdskcs7y774ysbfh\n"
     ]
    }
   ],
   "source": [
    "user_A = {\n",
    "    'phone': '+380001234567',\n",
    "    'notification': 'SMS'\n",
    "}\n",
    "\n",
    "user_B = {\n",
    "    'email': 'petrov@ggg.com', \n",
    "    'notification': 'email'\n",
    "}\n",
    "\n",
    "user_C = {\n",
    "    'app_id': 'dasdskcs7y774ysbfh', \n",
    "    'notification': 'push'\n",
    "}\n",
    "\n",
    "def send_sms(user_info, message):\n",
    "    print('Send SMS to {} with text {}'.format(user_info['phone'], message))\n",
    "    \n",
    "\n",
    "def send_push(user_info, message):\n",
    "    print('Send message {} to queue with app id {}'.format(message, user_info['app_id']))\n",
    "    \n",
    "\n",
    "def send_email(user_info, message):\n",
    "    print('Send email to {} with text {}'.format(user_info['email'], message))\n",
    "    \n",
    "    \n",
    "def check_notification_type(type):\n",
    "    if type == 'SMS':\n",
    "        return send_sms\n",
    "    elif type == 'push':\n",
    "        return send_push\n",
    "    else:\n",
    "        return send_email\n",
    "\n",
    "\n",
    "for user in [user_A, user_B, user_C]:\n",
    "    send_method = check_notification_type(user['notification'])\n",
    "    send_method(user, '18.09.2001 надходження: зарплата - 30 000 грн. Баланс: 100 444 грн.')"
   ]
  },
  {
   "cell_type": "code",
   "execution_count": 6,
   "metadata": {},
   "outputs": [
    {
     "name": "stdout",
     "output_type": "stream",
     "text": [
      "-1\n",
      "5\n"
     ]
    }
   ],
   "source": [
    "def sum_func(x, y):\n",
    "    return x + y\n",
    "\n",
    "\n",
    "def sub_func(x, y):\n",
    "    return x - y\n",
    "\n",
    "\n",
    "OPERATIONS = {\n",
    "    '-': sub_func,\n",
    "    '+': sum_func\n",
    "}\n",
    "\n",
    "\n",
    "def get_handler(operator):\n",
    "    return OPERATIONS[operator]\n",
    "\n",
    "\n",
    "handler = get_handler('-')\n",
    "print(handler(2, 3))        \n",
    "\n",
    "print(get_handler('+')(2, 3))  "
   ]
  },
  {
   "cell_type": "code",
   "execution_count": 8,
   "metadata": {},
   "outputs": [
    {
     "data": {
      "text/plain": [
       "22"
      ]
     },
     "execution_count": 8,
     "metadata": {},
     "output_type": "execute_result"
    }
   ],
   "source": [
    "sum_lambda = lambda x, y: x + y\n",
    "sum_lambda(10, 12)"
   ]
  },
  {
   "cell_type": "code",
   "execution_count": 9,
   "metadata": {},
   "outputs": [
    {
     "name": "stdout",
     "output_type": "stream",
     "text": [
      "1\n",
      "4\n",
      "9\n",
      "16\n",
      "25\n"
     ]
    }
   ],
   "source": [
    "numbers = [1, 2, 3, 4, 5]\n",
    "\n",
    "for i in map(lambda x: x ** 2, numbers):\n",
    "    print(i)"
   ]
  }
 ],
 "metadata": {
  "interpreter": {
   "hash": "f86cffe92f740405c39a45cc1481bf0b87dbf4940213354286d6e320d14f3e3e"
  },
  "kernelspec": {
   "display_name": "Python 3.10.0 64-bit",
   "language": "python",
   "name": "python3"
  },
  "language_info": {
   "codemirror_mode": {
    "name": "ipython",
    "version": 3
   },
   "file_extension": ".py",
   "mimetype": "text/x-python",
   "name": "python",
   "nbconvert_exporter": "python",
   "pygments_lexer": "ipython3",
   "version": "3.10.0"
  },
  "orig_nbformat": 4
 },
 "nbformat": 4,
 "nbformat_minor": 2
}
