{
 "cells": [
  {
   "cell_type": "code",
   "execution_count": 11,
   "metadata": {},
   "outputs": [],
   "source": [
    "def check_phone(phone_number):\n",
    "    correct_length = 10\n",
    "\n",
    "    return len(phone_number) == correct_length\n",
    "\n",
    "\n",
    "def get_operator(phone_number):\n",
    "    operator_K = ('067', '097', '098')\n",
    "    operator_V = ('050', '066', '099')\n",
    "    operator_L = ('093', '063')\n",
    "\n",
    "    code = phone_number\n",
    "\n",
    "    if code in operator_K:\n",
    "        return 'K'\n",
    "    elif code in operator_V:\n",
    "        return 'V'\n",
    "    elif code in operator_L:\n",
    "        return 'L'\n",
    "    else:\n",
    "        return None \n",
    "\n",
    "file_K = 'user-phones.txt'\n",
    "file_V = 'user-phones.txt'\n",
    "file_L = 'user-phones.txt'\n",
    "    \n",
    "file_K = open(file_K, 'w')\n",
    "file_V = open(file_V, 'w')\n",
    "file_L = open(file_L, 'w')\n",
    "\n",
    "files = {\n",
    "    'K':\n",
    "\n",
    "\n",
    "\n",
    "}\n",
    "\n",
    "with open('user-phones.txt', 'r') as f:\n",
    "    while True:\n",
    "        phone_current = f.readline()\n",
    "        if not phone:\n",
    "            break\n",
    "\n",
    "        phone = phone.rstrip('\\n')\n",
    "        if(check_phone(phone_current) == True):\n",
    "            \n",
    "            operator_code = get_operator(phone_current)\n",
    "            if(operator_code):\n",
    "                print(phone_current)\n",
    "        else:\n",
    "            print('phone is invalid', phone_current)\n",
    "\n",
    "\n",
    "        print(phone)\n",
    "\n",
    "file_K.close()\n",
    "file_V.close()\n",
    "file_L.close()"
   ]
  }
 ],
 "metadata": {
  "interpreter": {
   "hash": "f86cffe92f740405c39a45cc1481bf0b87dbf4940213354286d6e320d14f3e3e"
  },
  "kernelspec": {
   "display_name": "Python 3.10.0 64-bit",
   "language": "python",
   "name": "python3"
  },
  "language_info": {
   "codemirror_mode": {
    "name": "ipython",
    "version": 3
   },
   "file_extension": ".py",
   "mimetype": "text/x-python",
   "name": "python",
   "nbconvert_exporter": "python",
   "pygments_lexer": "ipython3",
   "version": "3.10.0"
  },
  "orig_nbformat": 4
 },
 "nbformat": 4,
 "nbformat_minor": 2
}
