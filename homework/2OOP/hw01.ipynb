{
 "cells": [
  {
   "cell_type": "code",
   "execution_count": 4,
   "metadata": {},
   "outputs": [
    {
     "name": "stdout",
     "output_type": "stream",
     "text": [
      "<__main__.FClub object at 0x000001D3FE295B40>\n"
     ]
    }
   ],
   "source": [
    "class FClub:\n",
    "    \n",
    "    #club_name = ''\n",
    "    #city = ''\n",
    "    #points = 0\n",
    "\n",
    "    def __init__(self, name, city, points):\n",
    "        self.club_name = name\n",
    "        self.city = city\n",
    "        self.points = points\n",
    "\n",
    "\n",
    "\n",
    "class Tournament:\n",
    "    \n",
    "   # country = ''\n",
    "    #tournament_name = ''\n",
    "    #clubs = list()\n",
    "\n",
    "    def __init__(self, clubs, country, name):\n",
    "        self.clubs = clubs\n",
    "        self.country = country\n",
    "        self.tournament_name = name\n",
    "\n",
    "    def findOutsider(self):\n",
    "        outsider = self.clubs[0]\n",
    "\n",
    "        for club in self.clubs:\n",
    "            if club.points < outsider.points:\n",
    "                outsider = club \n",
    "        print(outsider)       \n",
    "\n",
    "            \n",
    "\n",
    "\n",
    "  \n",
    "club1 = FClub('Dynamo', 'Kyiv', 40)    \n",
    "club2 = FClub('Shahtar', 'Donetsk', 30)  \n",
    "\n",
    "clubs1 = [club1, club2]\n",
    "\n",
    "tournament1 = Tournament(clubs1, 'England', 'abc')\n",
    "\n",
    "tournament1.findOutsider()\n",
    "\n",
    " \n",
    "\n"
   ]
  }
 ],
 "metadata": {
  "interpreter": {
   "hash": "f86cffe92f740405c39a45cc1481bf0b87dbf4940213354286d6e320d14f3e3e"
  },
  "kernelspec": {
   "display_name": "Python 3.10.0 64-bit",
   "language": "python",
   "name": "python3"
  },
  "language_info": {
   "codemirror_mode": {
    "name": "ipython",
    "version": 3
   },
   "file_extension": ".py",
   "mimetype": "text/x-python",
   "name": "python",
   "nbconvert_exporter": "python",
   "pygments_lexer": "ipython3",
   "version": "3.10.0"
  },
  "orig_nbformat": 4
 },
 "nbformat": 4,
 "nbformat_minor": 2
}
