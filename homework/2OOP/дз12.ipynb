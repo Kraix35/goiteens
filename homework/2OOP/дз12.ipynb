{
 "cells": [
  {
   "cell_type": "code",
   "execution_count": 4,
   "metadata": {},
   "outputs": [
    {
     "ename": "IndentationError",
     "evalue": "expected an indented block after function definition on line 4 (Temp/ipykernel_12748/75194409.py, line 11)",
     "output_type": "error",
     "traceback": [
      "\u001b[1;36m  File \u001b[1;32m\"C:\\Users\\maxlu\\AppData\\Local\\Temp/ipykernel_12748/75194409.py\"\u001b[1;36m, line \u001b[1;32m11\u001b[0m\n\u001b[1;33m    class Square(Figure):\u001b[0m\n\u001b[1;37m                         ^\u001b[0m\n\u001b[1;31mIndentationError\u001b[0m\u001b[1;31m:\u001b[0m expected an indented block after function definition on line 4\n"
     ]
    }
   ],
   "source": [
    "class Figure:\n",
    "    name = ''\n",
    "    S = float()\n",
    "\n",
    "\n",
    "        \n",
    "\n",
    "    \n",
    "\n",
    "\n",
    "class Square(Figure):\n",
    "\n",
    "    def __init__(self, name, side):\n",
    "        self.name = name\n",
    "        self.side = int(side)\n",
    "    \n",
    "    def find_S_sq(self):\n",
    "        self.S = self.side**2\n",
    "        return f'S = {self.S}'\n",
    "\n",
    "\n",
    "    def info_sq(self):\n",
    "        return f'Figure name is {self.name}, its S is {self.S}'\n",
    "\n",
    "\n",
    "class Circle(Figure):\n",
    "\n",
    "    def __init__(self, name, r):\n",
    "        self.name = name\n",
    "        self.r = r\n",
    "\n",
    "    def find_S_crcl(self):\n",
    "        π = 3.14\n",
    "        self.S = π*(self.r**2)\n",
    "        return f'S = {self.S}'\n",
    "\n",
    "    def info_crcl(self):\n",
    "        return f'Figure name is {self.name}, its S is {self.S}'\n",
    "\n",
    "\n",
    "\n",
    "\n",
    "sq1 = Square('Square', 2)\n",
    "sq1.find_S_sq()\n",
    "print(sq1.info_sq())\n",
    "\n",
    "crcl1 = Circle('Circle', 3)\n",
    "crcl1.find\n",
    "print(crcl1.info_crcl())\n",
    "\n",
    "figures = [sq1, crcl1]\n",
    "suma = 0\n",
    "for i in figures:\n",
    "    suma += i.S\n",
    "\n",
    "print(suma)\n",
    "    \n",
    "    "
   ]
  }
 ],
 "metadata": {
  "interpreter": {
   "hash": "f86cffe92f740405c39a45cc1481bf0b87dbf4940213354286d6e320d14f3e3e"
  },
  "kernelspec": {
   "display_name": "Python 3.10.0 64-bit",
   "language": "python",
   "name": "python3"
  },
  "language_info": {
   "codemirror_mode": {
    "name": "ipython",
    "version": 3
   },
   "file_extension": ".py",
   "mimetype": "text/x-python",
   "name": "python",
   "nbconvert_exporter": "python",
   "pygments_lexer": "ipython3",
   "version": "3.10.0"
  },
  "orig_nbformat": 4
 },
 "nbformat": 4,
 "nbformat_minor": 2
}
