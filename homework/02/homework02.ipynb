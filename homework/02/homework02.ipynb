{
 "cells": [
  {
   "cell_type": "code",
   "execution_count": 8,
   "metadata": {},
   "outputs": [
    {
     "name": "stdout",
     "output_type": "stream",
     "text": [
      "['Africa', 'Antarctida', 'Australia', 'Eurasia', 'North America', 'South America']\n"
     ]
    }
   ],
   "source": [
    "continents = ['South America', 'North America']\n",
    "\n",
    "east_continents = ['Eurasia', 'Africa', 'Australia', 'Antarctida']\n",
    "\n",
    "continents.extend(east_continents)\n",
    "\n",
    "continents.sort()\n",
    "\n",
    "print(continents)"
   ]
  },
  {
   "cell_type": "code",
   "execution_count": 18,
   "metadata": {},
   "outputs": [
    {
     "name": "stdout",
     "output_type": "stream",
     "text": [
      "You can allow ['phone', 'samsung', 7800]\n",
      "You can allow ['notebook', 'dell', 28000]\n",
      "You can allow ['notebook', 'hp', 35000]\n",
      "You can allow ['phone', 'iphone', 27800]\n"
     ]
    }
   ],
   "source": [
    "goods = [\n",
    "\n",
    "    ['phone', 'samsung', 7800],\n",
    "\n",
    "    ['notebook', 'dell', 28000],\n",
    "\n",
    "    ['notebook', 'hp', 35000],\n",
    "\n",
    "    ['phone', 'iphone', 27800],\n",
    "\n",
    "]\n",
    "\n",
    "\n",
    "money = int(input('Input how money go you have: '))\n",
    "\n",
    "for item in goods:\n",
    "    if item[2] <= money:\n",
    "        print(f'You can allow', item)\n",
    "    else: \n",
    "        print('You cant allow', item)\n",
    "       "
   ]
  }
 ],
 "metadata": {
  "interpreter": {
   "hash": "f86cffe92f740405c39a45cc1481bf0b87dbf4940213354286d6e320d14f3e3e"
  },
  "kernelspec": {
   "display_name": "Python 3.10.0 64-bit",
   "language": "python",
   "name": "python3"
  },
  "language_info": {
   "codemirror_mode": {
    "name": "ipython",
    "version": 3
   },
   "file_extension": ".py",
   "mimetype": "text/x-python",
   "name": "python",
   "nbconvert_exporter": "python",
   "pygments_lexer": "ipython3",
   "version": "3.10.0"
  },
  "orig_nbformat": 4
 },
 "nbformat": 4,
 "nbformat_minor": 2
}
