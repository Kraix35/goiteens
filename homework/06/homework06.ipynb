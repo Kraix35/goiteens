{
 "cells": [
  {
   "cell_type": "code",
   "execution_count": 17,
   "metadata": {},
   "outputs": [
    {
     "name": "stdout",
     "output_type": "stream",
     "text": [
      "abb\n"
     ]
    }
   ],
   "source": [
    "stroke = input()\n",
    "\n",
    "max_len = 0\n",
    "biggest_word = None \n",
    "\n",
    "for word in stroke.split(): \n",
    "    if len(word) > max_len :\n",
    "        max_len = len(word)\n",
    "        biggest_word = word\n",
    "\n",
    "print(biggest_word)"
   ]
  }
 ],
 "metadata": {
  "interpreter": {
   "hash": "f86cffe92f740405c39a45cc1481bf0b87dbf4940213354286d6e320d14f3e3e"
  },
  "kernelspec": {
   "display_name": "Python 3.10.0 64-bit",
   "language": "python",
   "name": "python3"
  },
  "language_info": {
   "codemirror_mode": {
    "name": "ipython",
    "version": 3
   },
   "file_extension": ".py",
   "mimetype": "text/x-python",
   "name": "python",
   "nbconvert_exporter": "python",
   "pygments_lexer": "ipython3",
   "version": "3.10.0"
  },
  "orig_nbformat": 4
 },
 "nbformat": 4,
 "nbformat_minor": 2
}
