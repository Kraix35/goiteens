{
 "cells": [
  {
   "cell_type": "code",
   "execution_count": 19,
   "metadata": {},
   "outputs": [
    {
     "name": "stdout",
     "output_type": "stream",
     "text": [
      "1\n",
      "4\n",
      "9\n",
      "16\n",
      "25\n",
      "55\n"
     ]
    }
   ],
   "source": [
    "interval_left = int(input('enter left'))\n",
    "interval_right = int(input('enter right'))\n",
    "\n",
    "numbers = range(interval_left, interval_right)\n",
    "\n",
    "suma = 0\n",
    "\n",
    "for number in numbers :\n",
    "    square = int(number) * int(number)\n",
    "    print(square)\n",
    "    suma += square\n",
    "\n",
    "print(suma)"
   ]
  },
  {
   "cell_type": "code",
   "execution_count": 18,
   "metadata": {},
   "outputs": [
    {
     "data": {
      "text/plain": [
       "1"
      ]
     },
     "execution_count": 18,
     "metadata": {},
     "output_type": "execute_result"
    }
   ],
   "source": [
    "sentence = str(input('Input sentence: '))\n",
    "symbol = str(input('Input symbol: '))\n",
    "\n",
    "\n",
    "sentence.count(symbol)"
   ]
  },
  {
   "cell_type": "code",
   "execution_count": null,
   "metadata": {},
   "outputs": [
    {
     "name": "stdout",
     "output_type": "stream",
     "text": [
      "Madrid visited\n"
     ]
    }
   ],
   "source": [
    "visitedCities = ['Warsava', 'Munchen', 'Madrid', 'Lviv', 'Frankfurt']\n",
    "wantVisit = str(input('Which city do you want to visit: '))\n",
    "\n",
    "for city in visitedCities :\n",
    "    if city == wantVisit:\n",
    "        print(wantVisit, 'visited')\n",
    "        break\n",
    "else:\n",
    "    print('It will be your first time in', wantVisit)"
   ]
  }
 ],
 "metadata": {
  "interpreter": {
   "hash": "f86cffe92f740405c39a45cc1481bf0b87dbf4940213354286d6e320d14f3e3e"
  },
  "kernelspec": {
   "display_name": "Python 3.10.0 64-bit",
   "name": "python3"
  },
  "language_info": {
   "codemirror_mode": {
    "name": "ipython",
    "version": 3
   },
   "file_extension": ".py",
   "mimetype": "text/x-python",
   "name": "python",
   "nbconvert_exporter": "python",
   "pygments_lexer": "ipython3",
   "version": "3.10.0"
  },
  "orig_nbformat": 4
 },
 "nbformat": 4,
 "nbformat_minor": 2
}
