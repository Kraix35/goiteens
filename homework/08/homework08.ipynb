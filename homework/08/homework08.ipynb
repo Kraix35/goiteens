{
 "cells": [
  {
   "cell_type": "code",
   "execution_count": 30,
   "metadata": {},
   "outputs": [
    {
     "name": "stdout",
     "output_type": "stream",
     "text": [
      "{'Kostenko': 4, 'Shevchenko': 5}\n"
     ]
    }
   ],
   "source": [
    "students = {\n",
    "   \"Ivanov\":3,\n",
    "   \"Kostenko\":4,\n",
    "   \"Shevchenko\":5 \n",
    "}\n",
    "\n",
    "for key, value in students.items():\n",
    "    if value < 4:\n",
    "       bad = key\n",
    "     \n",
    "students.pop(bad)\n",
    "students_exсellent = students.copy()\n",
    "\n",
    "print(students_exсellent)"
   ]
  },
  {
   "cell_type": "code",
   "execution_count": 34,
   "metadata": {},
   "outputs": [
    {
     "name": "stdout",
     "output_type": "stream",
     "text": [
      "2.0\n"
     ]
    }
   ],
   "source": [
    "weather = {\n",
    "   'Kyiv': 2,\n",
    "   'Dnipro': 1,\n",
    "   'Odessa': 3\n",
    "}\n",
    "suma = 0\n",
    "count = 0\n",
    "\n",
    "for value in weather.values():\n",
    "    suma = suma + value\n",
    "    count = count + 1\n",
    "   \n",
    "average_temperature = suma / count\n",
    "print(average_temperature)   "
   ]
  }
 ],
 "metadata": {
  "interpreter": {
   "hash": "f86cffe92f740405c39a45cc1481bf0b87dbf4940213354286d6e320d14f3e3e"
  },
  "kernelspec": {
   "display_name": "Python 3.10.0 64-bit",
   "language": "python",
   "name": "python3"
  },
  "language_info": {
   "codemirror_mode": {
    "name": "ipython",
    "version": 3
   },
   "file_extension": ".py",
   "mimetype": "text/x-python",
   "name": "python",
   "nbconvert_exporter": "python",
   "pygments_lexer": "ipython3",
   "version": "3.10.0"
  },
  "orig_nbformat": 4
 },
 "nbformat": 4,
 "nbformat_minor": 2
}
