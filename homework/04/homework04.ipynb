{
 "cells": [
  {
   "cell_type": "code",
   "execution_count": 54,
   "metadata": {},
   "outputs": [
    {
     "name": "stdout",
     "output_type": "stream",
     "text": [
      "У прізвищі всі літери унікальні\n"
     ]
    }
   ],
   "source": [
    "surname = 'Lukichov'\n",
    "max_count = 0\n",
    "\n",
    "for symbol in surname:\n",
    "    count1 = surname.count(symbol)\n",
    "    if count1 > max_count:\n",
    "        max_count = count1\n",
    "\n",
    "max_symbol = max_count\n",
    "\n",
    "if max_count == 1:\n",
    "    print('У прізвищі всі літери унікальні')\n",
    "else: print(max_symbol)\n",
    "        \n",
    "  "
   ]
  },
  {
   "cell_type": "code",
   "execution_count": 35,
   "metadata": {},
   "outputs": [
    {
     "name": "stdout",
     "output_type": "stream",
     "text": [
      "1\n",
      "2\n",
      "3\n",
      "max\n"
     ]
    }
   ],
   "source": [
    "numbers = ['1', '2', '3', '4', '5', '6', '7', '8', '9', '0']\n",
    "user_text = str(input())\n",
    "not_found = -1\n",
    "\n",
    " \n",
    "for number in numbers :\n",
    "\tif user_text.find(number) != not_found :\n",
    "         print(number)\n",
    "         user_text = user_text.replace(number, '')\n",
    "    \n",
    "\n",
    "print(user_text)"
   ]
  }
 ],
 "metadata": {
  "interpreter": {
   "hash": "f86cffe92f740405c39a45cc1481bf0b87dbf4940213354286d6e320d14f3e3e"
  },
  "kernelspec": {
   "display_name": "Python 3.10.0 64-bit",
   "language": "python",
   "name": "python3"
  },
  "language_info": {
   "codemirror_mode": {
    "name": "ipython",
    "version": 3
   },
   "file_extension": ".py",
   "mimetype": "text/x-python",
   "name": "python",
   "nbconvert_exporter": "python",
   "pygments_lexer": "ipython3",
   "version": "3.10.0"
  },
  "orig_nbformat": 4
 },
 "nbformat": 4,
 "nbformat_minor": 2
}
