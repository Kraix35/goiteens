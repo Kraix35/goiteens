{
 "cells": [
  {
   "cell_type": "code",
   "execution_count": 1,
   "metadata": {},
   "outputs": [
    {
     "name": "stdout",
     "output_type": "stream",
     "text": [
      "2\n",
      "**\n",
      "2\n",
      "2 ** 2 = 4\n"
     ]
    }
   ],
   "source": [
    "a, user_input_operation, b = input('Enter: ').split()\n",
    "print(a)\n",
    "print(user_input_operation)\n",
    "print(b)\n",
    "def sum(a, b):\n",
    "    return a + b\n",
    "\n",
    "def sub(a, b):\n",
    "    return a -b\n",
    "\n",
    "def dilennya(a, b):\n",
    "    error = 'dilennya na 0'\n",
    "\n",
    "    if b == 0:\n",
    "        return error \n",
    "    else:\n",
    "        return a / b\n",
    "\n",
    "def mnozh(a,b):\n",
    "    return a * b\n",
    "\n",
    "def stepin(a,b):\n",
    "    return a ** b\n",
    "\n",
    "\n",
    "def calculate(operand_a, operand_b, operation):\n",
    "    result = 0\n",
    "\n",
    "    if operation == '+':\n",
    "        result = sum(operand_a, operand_b)\n",
    "    elif operation == '-':\n",
    "        result = sub(operand_a, operand_b)\n",
    "    elif operation == '/':\n",
    "        result = dilennya(operand_a, operand_b)\n",
    "    elif operation == '*':\n",
    "        result = mnozh(operand_a, operand_b)\n",
    "    else:\n",
    "        result = stepin(operand_a, operand_b)\n",
    "\n",
    "    print(operand_a, operation, operand_b, '=', result)\n",
    "\n",
    "def check_operation(operation):\n",
    "    return operation in ['+', '-', '/', '*', \"**\"]\n",
    "\n",
    "\n",
    "if not check_operation(user_input_operation):\n",
    "    print('Operation', user_input_operation, 'not supported yet')\n",
    "else:\n",
    "    calculate(int(a), int(b), user_input_operation)"
   ]
  },
  {
   "cell_type": "code",
   "execution_count": 3,
   "metadata": {},
   "outputs": [
    {
     "name": "stdout",
     "output_type": "stream",
     "text": [
      "Столик для Kostenko на 2 вiльний\n",
      "Столик для Shevchenko на 4 вiльний\n"
     ]
    }
   ],
   "source": [
    "def restoraunt_book(lastname, count):\n",
    "    print(f'Столик для', lastname, 'на', count, 'вiльний')\n",
    "\n",
    "\n",
    "restoraunt_book('Kostenko', '2')\n",
    "restoraunt_book('Shevchenko', '4')"
   ]
  }
 ],
 "metadata": {
  "interpreter": {
   "hash": "f86cffe92f740405c39a45cc1481bf0b87dbf4940213354286d6e320d14f3e3e"
  },
  "kernelspec": {
   "display_name": "Python 3.10.0 64-bit",
   "language": "python",
   "name": "python3"
  },
  "language_info": {
   "codemirror_mode": {
    "name": "ipython",
    "version": 3
   },
   "file_extension": ".py",
   "mimetype": "text/x-python",
   "name": "python",
   "nbconvert_exporter": "python",
   "pygments_lexer": "ipython3",
   "version": "3.10.0"
  },
  "orig_nbformat": 4
 },
 "nbformat": 4,
 "nbformat_minor": 2
}
